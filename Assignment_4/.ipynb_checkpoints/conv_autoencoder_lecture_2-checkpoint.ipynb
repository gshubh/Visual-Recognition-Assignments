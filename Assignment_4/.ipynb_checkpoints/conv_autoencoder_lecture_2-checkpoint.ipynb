{
 "cells": [
  {
   "cell_type": "code",
   "execution_count": 106,
   "metadata": {},
   "outputs": [],
   "source": [
    "from keras.layers import Input, Conv2D, MaxPooling2D, UpSampling2D\n",
    "from keras.models import Model\n",
    "from keras.datasets import mnist\n",
    "from keras.callbacks import TensorBoard\n",
    "from keras import backend as K\n",
    "import numpy as np\n",
    "import matplotlib.pyplot as plt\n",
    "import pickle\n",
    "import h5py\n",
    "import math\n",
    "%matplotlib inline\n",
    "plt.rcParams['figure.figsize'] = (5.0, 4.0) \n",
    "plt.rcParams['image.interpolation'] = 'nearest'\n",
    "plt.rcParams['image.cmap'] = 'gray'\n",
    "\n",
    "%load_ext autoreload\n",
    "%autoreload 2\n",
    "\n",
    "np.random.seed(1)"
   ]
  },
  {
   "cell_type": "code",
   "execution_count": 2,
   "metadata": {},
   "outputs": [
    {
     "name": "stdout",
     "output_type": "stream",
     "text": [
      "shape of encoded (None, 4, 4, 8)\n"
     ]
    }
   ],
   "source": [
    "input_img = Input(shape=(28, 28, 1))    # adapt this if using 'channels_first' image data format\n",
    "\n",
    "x = Conv2D(16, (3, 3), activation='relu', padding='same')(input_img)\n",
    "x = MaxPooling2D((2, 2), padding='same')(x)\n",
    "x = Conv2D(8, (3, 3), activation='relu', padding='same')(x)\n",
    "x = MaxPooling2D((2, 2), padding='same')(x)\n",
    "x = Conv2D(8, (3, 3), activation='relu', padding='same')(x)\n",
    "encoded = MaxPooling2D((2, 2), padding='same')(x)\n",
    "\n",
    "print(\"shape of encoded\", K.int_shape(encoded))"
   ]
  },
  {
   "cell_type": "code",
   "execution_count": 56,
   "metadata": {},
   "outputs": [
    {
     "name": "stdout",
     "output_type": "stream",
     "text": [
      "shape of encoded (None, 28, 28, 1)\n"
     ]
    }
   ],
   "source": [
    "#This is decoder\n",
    "x = Conv2D(8, (3, 3), activation='relu', padding='same')(encoded)\n",
    "x = UpSampling2D((2, 2))(x)\n",
    "x = Conv2D(8, (3, 3), activation='relu', padding='same')(x)\n",
    "x = UpSampling2D((2, 2))(x)\n",
    "x = Conv2D(16, (3, 3), activation='relu')(x)\n",
    "x = UpSampling2D((2, 2))(x)\n",
    "decoded = Conv2D(1, (3, 3), activation='sigmoid', padding='same')(x)\n",
    "\n",
    "print(\"shape of encoded\", K.int_shape(decoded))"
   ]
  },
  {
   "cell_type": "code",
   "execution_count": 5,
   "metadata": {
    "collapsed": true
   },
   "outputs": [],
   "source": [
    "autoencoder = Model(input_img, decoded)\n",
    "autoencoder.compile(optimizer='adadelta', loss='binary_crossentropy')"
   ]
  },
  {
   "cell_type": "code",
   "execution_count": 6,
   "metadata": {
    "collapsed": true
   },
   "outputs": [],
   "source": [
    "from keras.datasets import mnist\n",
    "(x_train, y_train), (x_test, y_test) = mnist.load_data()\n",
    "\n",
    "x_train = x_train.astype('float32') / 255.\n",
    "x_test = x_test.astype('float32') / 255.\n",
    "x_train = np.reshape(x_train, (len(x_train), 28, 28, 1))    \n",
    "x_test = np.reshape(x_test, (len(x_test), 28, 28, 1))  "
   ]
  },
  {
   "cell_type": "code",
   "execution_count": 7,
   "metadata": {},
   "outputs": [
    {
     "name": "stdout",
     "output_type": "stream",
     "text": [
      "Train on 60000 samples, validate on 10000 samples\n",
      "Epoch 1/50\n",
      "40s - loss: 0.2201 - val_loss: 0.1756\n",
      "Epoch 2/50\n",
      "35s - loss: 0.1593 - val_loss: 0.1479\n",
      "Epoch 3/50\n",
      "34s - loss: 0.1451 - val_loss: 0.1441\n",
      "Epoch 4/50\n",
      "33s - loss: 0.1370 - val_loss: 0.1321\n",
      "Epoch 5/50\n",
      "43s - loss: 0.1317 - val_loss: 0.1301\n",
      "Epoch 6/50\n",
      "43s - loss: 0.1280 - val_loss: 0.1242\n",
      "Epoch 7/50\n",
      "35s - loss: 0.1245 - val_loss: 0.1214\n",
      "Epoch 8/50\n",
      "33s - loss: 0.1222 - val_loss: 0.1201\n",
      "Epoch 9/50\n",
      "33s - loss: 0.1202 - val_loss: 0.1181\n",
      "Epoch 10/50\n",
      "36s - loss: 0.1183 - val_loss: 0.1175\n",
      "Epoch 11/50\n",
      "35s - loss: 0.1169 - val_loss: 0.1168\n",
      "Epoch 12/50\n",
      "32s - loss: 0.1154 - val_loss: 0.1133\n",
      "Epoch 13/50\n",
      "35s - loss: 0.1143 - val_loss: 0.1153\n",
      "Epoch 14/50\n",
      "36s - loss: 0.1132 - val_loss: 0.1137\n",
      "Epoch 15/50\n",
      "36s - loss: 0.1123 - val_loss: 0.1097\n",
      "Epoch 16/50\n",
      "34s - loss: 0.1112 - val_loss: 0.1097\n",
      "Epoch 17/50\n",
      "34s - loss: 0.1102 - val_loss: 0.1076\n",
      "Epoch 18/50\n",
      "34s - loss: 0.1095 - val_loss: 0.1095\n",
      "Epoch 19/50\n",
      "33s - loss: 0.1088 - val_loss: 0.1064\n",
      "Epoch 20/50\n",
      "35s - loss: 0.1083 - val_loss: 0.1061\n",
      "Epoch 21/50\n",
      "34s - loss: 0.1076 - val_loss: 0.1059\n",
      "Epoch 22/50\n",
      "37s - loss: 0.1069 - val_loss: 0.1056\n",
      "Epoch 23/50\n",
      "38s - loss: 0.1066 - val_loss: 0.1063\n",
      "Epoch 24/50\n",
      "40s - loss: 0.1059 - val_loss: 0.1060\n",
      "Epoch 25/50\n",
      "42s - loss: 0.1054 - val_loss: 0.1032\n",
      "Epoch 26/50\n",
      "37s - loss: 0.1048 - val_loss: 0.1039\n",
      "Epoch 27/50\n",
      "37s - loss: 0.1042 - val_loss: 0.1024\n",
      "Epoch 28/50\n",
      "37s - loss: 0.1038 - val_loss: 0.1026\n",
      "Epoch 29/50\n",
      "40s - loss: 0.1035 - val_loss: 0.1019\n",
      "Epoch 30/50\n",
      "36s - loss: 0.1031 - val_loss: 0.1012\n",
      "Epoch 31/50\n",
      "35s - loss: 0.1027 - val_loss: 0.1011\n",
      "Epoch 32/50\n",
      "32s - loss: 0.1025 - val_loss: 0.1017\n",
      "Epoch 33/50\n",
      "32s - loss: 0.1017 - val_loss: 0.1009\n",
      "Epoch 34/50\n",
      "32s - loss: 0.1016 - val_loss: 0.1020\n",
      "Epoch 35/50\n",
      "32s - loss: 0.1014 - val_loss: 0.1001\n",
      "Epoch 36/50\n",
      "32s - loss: 0.1012 - val_loss: 0.0993\n",
      "Epoch 37/50\n",
      "32s - loss: 0.1010 - val_loss: 0.1007\n",
      "Epoch 38/50\n",
      "32s - loss: 0.1008 - val_loss: 0.0993\n",
      "Epoch 39/50\n",
      "32s - loss: 0.1005 - val_loss: 0.0996\n",
      "Epoch 40/50\n",
      "32s - loss: 0.1004 - val_loss: 0.0986\n",
      "Epoch 41/50\n",
      "33s - loss: 0.1001 - val_loss: 0.1001\n",
      "Epoch 42/50\n",
      "32s - loss: 0.0998 - val_loss: 0.0994\n",
      "Epoch 43/50\n",
      "32s - loss: 0.0996 - val_loss: 0.0987\n",
      "Epoch 44/50\n",
      "32s - loss: 0.0994 - val_loss: 0.0986\n",
      "Epoch 45/50\n",
      "32s - loss: 0.0993 - val_loss: 0.0974\n",
      "Epoch 46/50\n",
      "32s - loss: 0.0988 - val_loss: 0.0974\n",
      "Epoch 47/50\n",
      "32s - loss: 0.0989 - val_loss: 0.0975\n",
      "Epoch 48/50\n",
      "32s - loss: 0.0986 - val_loss: 0.0968\n",
      "Epoch 49/50\n",
      "32s - loss: 0.0983 - val_loss: 0.0976\n",
      "Epoch 50/50\n",
      "32s - loss: 0.0983 - val_loss: 0.0963\n"
     ]
    },
    {
     "data": {
      "text/plain": [
       "<keras.callbacks.History at 0x7f0b608ef080>"
      ]
     },
     "execution_count": 7,
     "metadata": {},
     "output_type": "execute_result"
    }
   ],
   "source": [
    "autoencoder.fit(x_train, x_train, epochs=50, batch_size=128, shuffle=True, validation_data=(x_test, x_test),\n",
    "                callbacks=[TensorBoard(log_dir='conv_autoencoder')], verbose=2)"
   ]
  },
  {
   "cell_type": "code",
   "execution_count": 8,
   "metadata": {
    "collapsed": true
   },
   "outputs": [],
   "source": [
    "decoded_imgs = autoencoder.predict(x_test)"
   ]
  },
  {
   "cell_type": "code",
   "execution_count": 150,
   "metadata": {},
   "outputs": [
    {
     "data": {
      "image/png": "[encoded data removed]",
      "text/plain": [
       "<matplotlib.figure.Figure at 0x7f0b180c2c50>"
      ]
     },
     "metadata": {},
     "output_type": "display_data"
    }
   ],
   "source": [
    "# This output is from keras implimentation\n",
    "\n",
    "n = 20\n",
    "plt.figure(figsize=(10, 4), dpi=100)\n",
    "for i in range(n):\n",
    "    # display original\n",
    "    ax = plt.subplot(2, n, i + 1)\n",
    "    plt.imshow(x_test[i].reshape(28, 28))\n",
    "    plt.gray()\n",
    "    ax.set_axis_off()\n",
    "\n",
    "    # display reconstruction\n",
    "    ax = plt.subplot(2, n, i + n + 1)\n",
    "    plt.imshow(decoded_imgs[i].reshape(28, 28))\n",
    "    plt.gray()\n",
    "    ax.set_axis_off()\n",
    "\n",
    "plt.show()"
   ]
  },
  {
   "cell_type": "code",
   "execution_count": null,
   "metadata": {
    "collapsed": true
   },
   "outputs": [],
   "source": []
  },
  {
   "cell_type": "code",
   "execution_count": 6,
   "metadata": {},
   "outputs": [
    {
     "name": "stdout",
     "output_type": "stream",
     "text": [
      "The autoreload extension is already loaded. To reload it, use:\n",
      "  %reload_ext autoreload\n"
     ]
    }
   ],
   "source": []
  },
  {
   "cell_type": "code",
   "execution_count": 80,
   "metadata": {
    "collapsed": true
   },
   "outputs": [],
   "source": [
    "def relu(Z):\n",
    "    return np.maximum(Z,0)"
   ]
  },
  {
   "cell_type": "code",
   "execution_count": 81,
   "metadata": {
    "collapsed": true
   },
   "outputs": [],
   "source": [
    "def sigmoid(x):\n",
    "    sigm = 1. / (1. + np.exp(-x))\n",
    "    return sigm"
   ]
  },
  {
   "cell_type": "code",
   "execution_count": 82,
   "metadata": {
    "collapsed": true
   },
   "outputs": [],
   "source": [
    "def zero_pad(X, pad):\n",
    "    X_pad = np.pad(X,((0,0),(pad,pad),(pad,pad),(0,0)),'constant',constant_values=0)\n",
    "    return X_pad"
   ]
  },
  {
   "cell_type": "code",
   "execution_count": 83,
   "metadata": {
    "collapsed": true
   },
   "outputs": [],
   "source": [
    "def conv_single_step(a_slice_prev, W, b):\n",
    "    s = np.multiply(a_slice_prev,W)\n",
    "    Z = np.sum(s)\n",
    "    Z = Z+b\n",
    "    return Z"
   ]
  },
  {
   "cell_type": "code",
   "execution_count": 116,
   "metadata": {},
   "outputs": [],
   "source": [
    "def conv_forward(A_prev, W, b, hparameters):\n",
    "    W, b = W\n",
    "    (m, n_H_prev, n_W_prev, n_C_prev) = A_prev.shape\n",
    "    \n",
    "    (f, f, n_C_prev, n_C) = W.shape\n",
    "    \n",
    "#     stride = hparameters[\"stride\"][0]\n",
    "    stride = 1\n",
    "#     pad = hparameters[\"pad\"]\n",
    "    if(hparameters[\"padding\"] == \"same\"):\n",
    "        pad = int((f-1)/2)\n",
    "    else:\n",
    "        pad = 0\n",
    "        \n",
    "    n_H = math.floor((n_H_prev -f +2*pad)/stride + 1)\n",
    "    n_W = math.floor((n_W_prev -f +2*pad)/stride + 1)\n",
    "    \n",
    "    Z = np.zeros((m,n_H,n_W,n_C))\n",
    "    A = np.zeros((m,n_H,n_W,n_C))\n",
    "    \n",
    "    A_prev_pad = zero_pad(A_prev,pad)\n",
    "    \n",
    "    for i in range(m):                               \n",
    "        a_prev_pad = A_prev_pad[i]                              \n",
    "        for h in range(n_H):                           \n",
    "            for w in range(n_W):                       \n",
    "                for c in range(n_C):                   \n",
    "                    \n",
    "                    vert_start = h*stride\n",
    "                    vert_end = vert_start + f\n",
    "                    horiz_start = w*stride\n",
    "                    horiz_end = horiz_start + f\n",
    "                    \n",
    "                    a_slice_prev = a_prev_pad[vert_start:vert_end,horiz_start:horiz_end]\n",
    "#                     print(W.shape)\n",
    "#                     print(len(b))\n",
    "#                     print(b.shape)\n",
    "                    Z[i, h, w, c] = conv_single_step(a_slice_prev,W[:,:,:,c],b[c])\n",
    "#                     A[i, h, w, c] = relu(Z[i, h, w, c])\n",
    "    \n",
    "    if(hparameters[\"activation\"] == 'relu'):\n",
    "        A = np.maximum(0, Z)\n",
    "    elif(hparameters[\"activation\"] == 'sigmoid'):\n",
    "        A = sigmoid(Z)\n",
    "    assert(Z.shape == (m, n_H, n_W, n_C))\n",
    "    cache = (A_prev, W, b, hparameters)\n",
    "    \n",
    "    return A"
   ]
  },
  {
   "cell_type": "code",
   "execution_count": 161,
   "metadata": {
    "collapsed": true
   },
   "outputs": [],
   "source": [
    "def pool_forward(A_prev, hparameters, mode = \"max\"):\n",
    "    \n",
    "    (m, n_H_prev, n_W_prev, n_C_prev) = A_prev.shape\n",
    "    \n",
    "    pool_width = hparameters['pool_size'][0]\n",
    "    pool_height = hparameters['pool_size'][1]\n",
    "    \n",
    "    pad_width = n_W_prev % pool_width\n",
    "    pad_height = n_H_prev % pool_height\n",
    "    \n",
    "    A_prev = np.pad(A_prev, [(0, 0), (0, pad_width), (0, pad_height), (0, 0)], 'constant',constant_values=0)\n",
    "    \n",
    "    f = pool_width\n",
    "    stride = hparameters[\"strides\"][0]\n",
    "    stride = 2\n",
    "    n_H = int(1 + (n_H_prev - f + 2*pad_height) / stride)\n",
    "    n_W = int(1 + (n_W_prev - f + 2*pad_width) / stride)\n",
    "    n_C = n_C_prev\n",
    "    \n",
    "    A = np.zeros((m, n_H, n_W, n_C))              \n",
    "    \n",
    "    for i in range(m):                         \n",
    "        for h in range(n_H):                     \n",
    "            for w in range(n_W):                 \n",
    "                for c in range (n_C):            \n",
    "                    \n",
    "                    vert_start = h*stride\n",
    "                    vert_end = vert_start + f\n",
    "                    horiz_start = w*stride\n",
    "                    horiz_end = horiz_start + f\n",
    "                    \n",
    "                    a_prev_slice = A_prev[i,vert_start:vert_end,horiz_start:horiz_end,c]\n",
    "                    \n",
    "                    if mode == \"max\":\n",
    "                        A[i, h, w, c] = np.max(a_prev_slice)\n",
    "                    elif mode == \"average\":\n",
    "                        A[i, h, w, c] = np.average(a_prev_slice)\n",
    "    \n",
    "    \n",
    "    cache = (A_prev, hparameters)\n",
    "    \n",
    "    assert(A.shape == (m, n_H, n_W, n_C))\n",
    "    \n",
    "    return A"
   ]
  },
  {
   "cell_type": "code",
   "execution_count": 162,
   "metadata": {},
   "outputs": [],
   "source": [
    "# np.random.seed(1)\n",
    "# A_prev = np.random.randn(10,4,4,3)\n",
    "# W = np.random.randn(2,2,3,8)\n",
    "# b = np.random.randn(1,1,1,8)\n",
    "# hparameters = {\"pad\" : 2,\n",
    "#                \"stride\": 2}\n",
    "\n",
    "# A,Z, cache_conv = conv_forward(A_prev, W, b, hparameters)\n",
    "# print(\"Z's mean =\", np.mean(Z))\n",
    "# print(\"Z[3,2,1] =\", Z[3,2,1])\n",
    "# print(\"cache_conv[0][1][2][3] =\", cache_conv[0][1][2][3])\n",
    "# print(\"A == : \",A[3,2,1])"
   ]
  },
  {
   "cell_type": "code",
   "execution_count": 163,
   "metadata": {
    "collapsed": true
   },
   "outputs": [],
   "source": [
    "def upsampling(A_prev,shape=(2,2)):\n",
    "    row = shape[0]\n",
    "    col = shape[1]\n",
    "    temp = np.repeat(A_prev, row, axis = 1)\n",
    "    A = np.repeat(temp, col, axis = 2)\n",
    "    return A"
   ]
  },
  {
   "cell_type": "code",
   "execution_count": 164,
   "metadata": {
    "collapsed": true
   },
   "outputs": [],
   "source": [
    "def forward_pass(x, layers):\n",
    "    for single_layer in layers[1:]:\n",
    "        name = single_layer.__class__.__name__\n",
    "        parameters = single_layer.get_config()\n",
    "        print(name)\n",
    "        if(name == 'Conv2D'):\n",
    "            x = conv_forward(x, single_layer.get_weights(),0, parameters)\n",
    "        elif(name == 'MaxPooling2D'):\n",
    "            x = pool_forward(x, parameters)\n",
    "        elif(name == 'UpSampling2D'):\n",
    "            x = upsampling(x)\n",
    "        print(\"Hello\")\n",
    "        \n",
    "    return x"
   ]
  },
  {
   "cell_type": "code",
   "execution_count": 168,
   "metadata": {},
   "outputs": [
    {
     "name": "stdout",
     "output_type": "stream",
     "text": [
      "(20, 28, 28, 1)\n"
     ]
    }
   ],
   "source": [
    "images = 20\n",
    "XX = x_test[0:images,:,:,:]\n",
    "print(XX.shape)"
   ]
  },
  {
   "cell_type": "code",
   "execution_count": 169,
   "metadata": {},
   "outputs": [
    {
     "name": "stdout",
     "output_type": "stream",
     "text": [
      "Conv2D\n",
      "Hello\n",
      "MaxPooling2D\n",
      "Hello\n",
      "Conv2D\n",
      "Hello\n",
      "MaxPooling2D\n",
      "Hello\n",
      "Conv2D\n",
      "Hello\n",
      "MaxPooling2D\n",
      "Hello\n",
      "Conv2D\n",
      "Hello\n",
      "UpSampling2D\n",
      "Hello\n",
      "Conv2D\n",
      "Hello\n",
      "UpSampling2D\n",
      "Hello\n",
      "Conv2D\n",
      "Hello\n",
      "UpSampling2D\n",
      "Hello\n",
      "Conv2D\n",
      "Hello\n",
      "(20, 28, 28, 1)\n"
     ]
    }
   ],
   "source": [
    "y_predict = forward_pass(X_test_1, autoencoder.layers)\n",
    "print(y_predict.shape)"
   ]
  },
  {
   "cell_type": "code",
   "execution_count": 170,
   "metadata": {},
   "outputs": [
    {
     "data": {
      "image/png": "[encoded data removed]",
      "text/plain": [
       "<matplotlib.figure.Figure at 0x7f0b3c384d30>"
      ]
     },
     "metadata": {},
     "output_type": "display_data"
    }
   ],
   "source": [
    "plt.figure(figsize=(no_images, 2), dpi=100)\n",
    "for i in range(no_images):\n",
    "    ax = plt.subplot(2, n, i + 1)\n",
    "    plt.imshow(x_test[i].reshape(28, 28))\n",
    "    plt.gray()\n",
    "    ax.set_axis_off()\n",
    "    ax = plt.subplot(2, n, i + n + 1)\n",
    "    plt.imshow(y_predict[i].reshape(28, 28))\n",
    "    plt.gray()\n",
    "    ax.set_axis_off()\n",
    "\n",
    "plt.show()"
   ]
  },
  {
   "cell_type": "code",
   "execution_count": null,
   "metadata": {
    "collapsed": true
   },
   "outputs": [],
   "source": []
  }
 ],
 "metadata": {
  "kernelspec": {
   "display_name": "Python 3",
   "language": "python",
   "name": "python3"
  },
  "language_info": {
   "codemirror_mode": {
    "name": "ipython",
    "version": 3
   },
   "file_extension": ".py",
   "mimetype": "text/x-python",
   "name": "python",
   "nbconvert_exporter": "python",
   "pygments_lexer": "ipython3",
   "version": "3.6.5"
  }
 },
 "nbformat": 4,
 "nbformat_minor": 2
}
